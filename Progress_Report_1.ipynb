{
 "cells": [
  {
   "cell_type": "markdown",
   "metadata": {},
   "source": [
    "Progress Report 1\n",
    "----\n",
    "\n",
    "**Team Members**\n",
    "\n",
    "Yaqian Cheng, Department of Statistical Science\n",
    "\n",
    "Mengrun Li, Department of Statistical Science\n",
    "\n",
    "**Github repository**\n",
    "\n",
    "<https://github.com/cici7941/Sta_663_Statistical_Computation_Final_Project>\n",
    "\n",
    "**Choice of paper** \n",
    "\n",
    "*Scalable K-Means++*\n",
    "\n",
    "**Abstract**\n",
    "\n",
    "*K-means* is one of the most popular clustering methods. A good initialization of *k-means* is essential for obtaining the global optimal solution and efficiency. However, there are two main obstacles with traditional *k-means* method. One is theoretical inefficiency and the other one is that its final solution is locally optimal. A better algorithm, *k-means++* addresses the second problem with an improved initialization procedure of the cluster centers. But this *k-means++* initialization is not parallelizable, because the selection for the *i*th center depends on the previous *i-1* centers [1]. Therefore, *k-means||*, a parallelizable version of *k-means++*, has been raised, which can both improve the final solution and run faster. In this report, we implemented the algorithm in the paper \"Scalable K-Means++\" in Python, compared the clustering cost and runtime between *k-means*, *k-means++* and *k-means||*, performed tests for main functions, profiled the performance of the algorithm and identified bottlenecks, and performed optimization using Cython. We then apply *k-means||* to a massive dataset to evaluate its performance.\n",
    "\n",
    "**Outline**"
   ]
  },
  {
   "cell_type": "markdown",
   "metadata": {},
   "source": [
    "1. Introduction\n",
    "2. Algorithm  \n",
    "    2.1 K-Means  \n",
    "    2.2 K-Means++  \n",
    "    2.3 K-Means||  \n",
    "3. Code Testing\n",
    "4. Profiling and Optimization\n",
    "5. Application and Comparison"
   ]
  },
  {
   "cell_type": "code",
   "execution_count": 5,
   "metadata": {
    "collapsed": true
   },
   "outputs": [],
   "source": [
    "import scipy.linalg as la\n",
    "import numpy as np\n",
    "import matplotlib.pyplot as plt"
   ]
  },
  {
   "cell_type": "code",
   "execution_count": 2,
   "metadata": {
    "collapsed": false
   },
   "outputs": [],
   "source": [
    "# helper functions\n",
    "def euc_dist(x, y):\n",
    "    return la.norm(x-y)\n",
    "\n",
    "def centroid(X):\n",
    "    return X.mean(0)\n",
    "    \n",
    "def d(x, Y):\n",
    "    minDist = float(\"inf\")\n",
    "    for yi in Y:\n",
    "        dist = euc_dist(x, yi)\n",
    "        if(dist < minDist):\n",
    "            minDist = dist\n",
    "    return minDist\n",
    "\n",
    "def cost(Y, C):\n",
    "    cost = 0\n",
    "    for yi in Y:\n",
    "        cost += d(yi, C)**2\n",
    "    return cost"
   ]
  },
  {
   "cell_type": "code",
   "execution_count": 3,
   "metadata": {
    "collapsed": false
   },
   "outputs": [],
   "source": [
    "# K-Means++\n",
    "def kmeansPlus(data, k):\n",
    "    idx = np.random.choice(data.shape[0], 1)\n",
    "    C = data[idx, :]\n",
    "    while(C.shape[0] < k):\n",
    "        prob = [d(xi,C)**2 for xi in data]/cost(data,C)\n",
    "        new = data[np.random.choice(data.shape[0], size=1, p=prob),:]\n",
    "        if(new.tolist() not in C.tolist()):\n",
    "            C = np.r_[C, new]\n",
    "    return C"
   ]
  },
  {
   "cell_type": "markdown",
   "metadata": {},
   "source": [
    "**Initialization algorithm: k-means||**  \n",
    "*k-means||* uses an oversampling factor *l* = $\\Omega$(k), which is unlike *k-means++*. Intuitively, *l* should be thought of as $\\Theta$(k). This initialization algorithm picks an initial center uniformly from the dataset and computes $\\psi$, here is initial cost of the clustering of this selection. Then do log$\\psi$ iterations and in each iteration, it samples each x with probability *l*$d^2(x,C)/\\psi_X(C)$ given current set C of centers. If the point is sampled, it will be added to C and the quantity $\\phi_X(C)$ updated and interation continued."
   ]
  },
  {
   "cell_type": "markdown",
   "metadata": {},
   "source": [
    "***Algorithm*** *k-means||*(k,l)initialization  \n",
    "1. C <- sample a point uniformly at random from X  \n",
    "2. $\\psi$ = $\\phi_X(C)$  \n",
    "3. for O(log$\\psi$) times do  \n",
    "      C' <- sample each point x $\\in$ X independently with probability $p_x = \\frac{l*d^2(x,C)}{\\phi_X(C)}$  \n",
    "      C <- C $\\cup$ C'  \n",
    "   end for  \n",
    "4. For x $\\in$ C, set $w_x$ to be the number of points in X closer to x than any other point in C  \n",
    "5. Recluster the weighted points in C into k clusters"
   ]
  },
  {
   "cell_type": "code",
   "execution_count": 96,
   "metadata": {
    "collapsed": false
   },
   "outputs": [
    {
     "name": "stdout",
     "output_type": "stream",
     "text": [
      "[8]\n",
      "first centroid: [[  9.   11.5]]\n",
      "initial cost: 690.99\n"
     ]
    },
    {
     "data": {
      "text/plain": [
       "[<matplotlib.lines.Line2D at 0x10c4ab898>]"
      ]
     },
     "execution_count": 96,
     "metadata": {},
     "output_type": "execute_result"
    },
    {
     "data": {
      "image/png": "[encoded data removed]",
      "text/plain": [
       "<matplotlib.figure.Figure at 0x10bf19080>"
      ]
     },
     "metadata": {},
     "output_type": "display_data"
    }
   ],
   "source": [
    "# K-Means||\n",
    "X_ori = np.array([[1,0],[1.5,0],[3,5],[3,4.8],[3.6,4.5],[4,4.9],[9,12],[9,11.5],[8.7,11.7]])\n",
    "X = X_ori\n",
    "k = 3\n",
    "l = 2\n",
    "##step1\n",
    "##Sample a point uniformly at random from X\n",
    "idx1 = np.random.choice(X_ori.shape[0],1,replace = False)\n",
    "C = X[idx1-1,:]\n",
    "print(idx1)\n",
    "print(\"first centroid:\",C)\n",
    "##step2\n",
    "##initial cost\n",
    "gamma1 = cost(X,C)\n",
    "print(\"initial cost:\",gamma1)\n",
    "##remove first centroid\n",
    "X = np.delete(X, idx1-1, axis=0)\n",
    "X\n",
    "plt.plot(X[:,0],X[:,1],\"o\")"
   ]
  },
  {
   "cell_type": "code",
   "execution_count": 97,
   "metadata": {
    "collapsed": false
   },
   "outputs": [
    {
     "ename": "ValueError",
     "evalue": "p > 1",
     "output_type": "error",
     "traceback": [
      "\u001b[0;31m---------------------------------------------------------------------------\u001b[0m",
      "\u001b[0;31mValueError\u001b[0m                                Traceback (most recent call last)",
      "\u001b[0;32m<ipython-input-97-4169a33aea94>\u001b[0m in \u001b[0;36m<module>\u001b[0;34m()\u001b[0m\n\u001b[1;32m      7\u001b[0m     \u001b[0;31m#new = data[np.random.choice(X.shape[0], size=1, p=prob),:]\u001b[0m\u001b[0;34m\u001b[0m\u001b[0;34m\u001b[0m\u001b[0m\n\u001b[1;32m      8\u001b[0m     \u001b[0;32mfor\u001b[0m \u001b[0mj\u001b[0m \u001b[0;32min\u001b[0m \u001b[0mrange\u001b[0m\u001b[0;34m(\u001b[0m\u001b[0mlen\u001b[0m\u001b[0;34m(\u001b[0m\u001b[0mX\u001b[0m\u001b[0;34m)\u001b[0m\u001b[0;34m)\u001b[0m\u001b[0;34m:\u001b[0m\u001b[0;34m\u001b[0m\u001b[0m\n\u001b[0;32m----> 9\u001b[0;31m         \u001b[0mpoint\u001b[0m \u001b[0;34m=\u001b[0m \u001b[0mnp\u001b[0m\u001b[0;34m.\u001b[0m\u001b[0mrandom\u001b[0m\u001b[0;34m.\u001b[0m\u001b[0mbinomial\u001b[0m\u001b[0;34m(\u001b[0m\u001b[0;36m1\u001b[0m\u001b[0;34m,\u001b[0m\u001b[0mprob\u001b[0m\u001b[0;34m[\u001b[0m\u001b[0mj\u001b[0m\u001b[0;34m]\u001b[0m\u001b[0;34m,\u001b[0m\u001b[0msize\u001b[0m \u001b[0;34m=\u001b[0m \u001b[0;36m1\u001b[0m\u001b[0;34m)\u001b[0m\u001b[0;34m\u001b[0m\u001b[0m\n\u001b[0m\u001b[1;32m     10\u001b[0m         \u001b[0;32mif\u001b[0m \u001b[0mpoint\u001b[0m \u001b[0;34m==\u001b[0m \u001b[0;36m1\u001b[0m\u001b[0;34m:\u001b[0m\u001b[0;34m\u001b[0m\u001b[0m\n\u001b[1;32m     11\u001b[0m            \u001b[0mCt\u001b[0m\u001b[0;34m.\u001b[0m\u001b[0mappend\u001b[0m\u001b[0;34m(\u001b[0m\u001b[0mX\u001b[0m\u001b[0;34m[\u001b[0m\u001b[0mj\u001b[0m\u001b[0;34m,\u001b[0m\u001b[0;34m:\u001b[0m\u001b[0;34m]\u001b[0m\u001b[0;34m)\u001b[0m\u001b[0;34m\u001b[0m\u001b[0m\n",
      "\u001b[0;32mmtrand.pyx\u001b[0m in \u001b[0;36mmtrand.RandomState.binomial (numpy/random/mtrand/mtrand.c:24114)\u001b[0;34m()\u001b[0m\n",
      "\u001b[0;31mValueError\u001b[0m: p > 1"
     ]
    }
   ],
   "source": [
    "##step3\n",
    "for i in range(int(round(np.log(gamma1)))):\n",
    "    Ct = []\n",
    "    idx = []\n",
    "    gamma = cost(X,C)\n",
    "    prob = [l*d(x,C)**2/gamma for x in X]\n",
    "    #new = data[np.random.choice(X.shape[0], size=1, p=prob),:]\n",
    "    for j in range(len(X)):\n",
    "        point = np.random.binomial(1,prob[j],size = 1)\n",
    "        if point == 1:\n",
    "           Ct.append(X[j,:])\n",
    "           idx.append(j)\n",
    "    X = np.delete(X, idx, axis = 0)\n",
    "    C = np.concatenate((C,np.array(Ct).reshape(len(Ct),2)),axis = 0)\n",
    "C"
   ]
  },
  {
   "cell_type": "code",
   "execution_count": 83,
   "metadata": {
    "collapsed": false
   },
   "outputs": [],
   "source": [
    "gamma = cost(X,C)\n",
    "prob = [l*d(x,C)**2/gamma for x in X]"
   ]
  },
  {
   "cell_type": "code",
   "execution_count": 84,
   "metadata": {
    "collapsed": false
   },
   "outputs": [
    {
     "data": {
      "text/plain": [
       "[0.5603901177358084,\n",
       " 0.5395101974836329,\n",
       " 0.2290055769593448,\n",
       " 0.23665705741304527,\n",
       " 0.23011019209526634,\n",
       " 0.20316835951181406,\n",
       " 0.0006735458145863082,\n",
       " 0.0004849529865021442]"
      ]
     },
     "execution_count": 84,
     "metadata": {},
     "output_type": "execute_result"
    }
   ],
   "source": [
    "prob"
   ]
  },
  {
   "cell_type": "code",
   "execution_count": 85,
   "metadata": {
    "collapsed": false
   },
   "outputs": [
    {
     "data": {
      "text/plain": [
       "[0.2801950588679042,\n",
       " 0.26975509874181647,\n",
       " 0.1145027884796724,\n",
       " 0.11832852870652263,\n",
       " 0.11505509604763317,\n",
       " 0.10158417975590703,\n",
       " 0.0003367729072931541,\n",
       " 0.0002424764932510721]"
      ]
     },
     "execution_count": 85,
     "metadata": {},
     "output_type": "execute_result"
    }
   ],
   "source": [
    "[d(x,C)**2/gamma for x in X]"
   ]
  },
  {
   "cell_type": "code",
   "execution_count": 86,
   "metadata": {
    "collapsed": false
   },
   "outputs": [
    {
     "data": {
      "text/plain": [
       "[0.5603901177358084,\n",
       " 0.5395101974836329,\n",
       " 0.2290055769593448,\n",
       " 0.23665705741304527,\n",
       " 0.23011019209526634,\n",
       " 0.20316835951181406,\n",
       " 0.0006735458145863082,\n",
       " 0.0004849529865021442]"
      ]
     },
     "execution_count": 86,
     "metadata": {},
     "output_type": "execute_result"
    }
   ],
   "source": [
    "Ct = []\n",
    "idx = []\n",
    "gamma = cost(X,C)\n",
    "prob = [l*d(x,C)**2/gamma for x in X]\n",
    "#new = data[np.random.choice(X.shape[0], size=1, p=prob),:]\n",
    "prob"
   ]
  },
  {
   "cell_type": "code",
   "execution_count": 87,
   "metadata": {
    "collapsed": false
   },
   "outputs": [
    {
     "data": {
      "text/plain": [
       "array([[  9. ,  12. ],\n",
       "       [  1.5,   0. ]])"
      ]
     },
     "execution_count": 87,
     "metadata": {},
     "output_type": "execute_result"
    }
   ],
   "source": [
    "for j in range(len(X)):\n",
    "    point = np.random.binomial(1,prob[j],size = 1)\n",
    "    if point == 1:\n",
    "       Ct.append(X[j,:])\n",
    "       idx.append(j)\n",
    "X = np.delete(X, idx, axis = 0)\n",
    "C = np.concatenate((C,np.array(Ct).reshape(len(Ct),2)),axis = 0)\n",
    "C"
   ]
  },
  {
   "cell_type": "code",
   "execution_count": 88,
   "metadata": {
    "collapsed": false
   },
   "outputs": [
    {
     "data": {
      "text/plain": [
       "[array([ 1.5,  0. ])]"
      ]
     },
     "execution_count": 88,
     "metadata": {},
     "output_type": "execute_result"
    }
   ],
   "source": [
    "Ct"
   ]
  },
  {
   "cell_type": "code",
   "execution_count": 89,
   "metadata": {
    "collapsed": false
   },
   "outputs": [
    {
     "data": {
      "text/plain": [
       "[0.004623636027371924,\n",
       " 0.5039763269835398,\n",
       " 0.4677270205289438,\n",
       " 0.45607545773996666,\n",
       " 0.5596449047530978,\n",
       " 0.004623636027371924,\n",
       " 0.0033290179397078012]"
      ]
     },
     "execution_count": 89,
     "metadata": {},
     "output_type": "execute_result"
    }
   ],
   "source": [
    "Ct = []\n",
    "idx = []\n",
    "gamma = cost(X,C)\n",
    "prob = [l*d(x,C)**2/gamma for x in X]\n",
    "#new = data[np.random.choice(X.shape[0], size=1, p=prob),:]\n",
    "prob"
   ]
  },
  {
   "cell_type": "code",
   "execution_count": 90,
   "metadata": {
    "collapsed": false
   },
   "outputs": [
    {
     "data": {
      "text/plain": [
       "array([[  9. ,  12. ],\n",
       "       [  1.5,   0. ],\n",
       "       [  3.6,   4.5]])"
      ]
     },
     "execution_count": 90,
     "metadata": {},
     "output_type": "execute_result"
    }
   ],
   "source": [
    "for j in range(len(X)):\n",
    "    point = np.random.binomial(1,prob[j],size = 1)\n",
    "    if point == 1:\n",
    "       Ct.append(X[j,:])\n",
    "       idx.append(j)\n",
    "X = np.delete(X, idx, axis = 0)\n",
    "C = np.concatenate((C,np.array(Ct).reshape(len(Ct),2)),axis = 0)\n",
    "C"
   ]
  },
  {
   "cell_type": "code",
   "execution_count": 91,
   "metadata": {
    "collapsed": false
   },
   "outputs": [
    {
     "data": {
      "text/plain": [
       "[array([ 3.6,  4.5])]"
      ]
     },
     "execution_count": 91,
     "metadata": {},
     "output_type": "execute_result"
    }
   ],
   "source": [
    "Ct"
   ]
  },
  {
   "cell_type": "code",
   "execution_count": 92,
   "metadata": {
    "collapsed": false
   },
   "outputs": [
    {
     "data": {
      "text/plain": [
       "[0.24271844660194164,\n",
       " 0.5922330097087377,\n",
       " 0.43689320388349495,\n",
       " 0.3106796116504854,\n",
       " 0.24271844660194164,\n",
       " 0.1747572815533988]"
      ]
     },
     "execution_count": 92,
     "metadata": {},
     "output_type": "execute_result"
    }
   ],
   "source": [
    "Ct = []\n",
    "idx = []\n",
    "gamma = cost(X,C)\n",
    "prob = [l*d(x,C)**2/gamma for x in X]\n",
    "#new = data[np.random.choice(X.shape[0], size=1, p=prob),:]\n",
    "prob"
   ]
  },
  {
   "cell_type": "code",
   "execution_count": 93,
   "metadata": {
    "collapsed": false
   },
   "outputs": [
    {
     "data": {
      "text/plain": [
       "array([[  9. ,  12. ],\n",
       "       [  1.5,   0. ],\n",
       "       [  3.6,   4.5],\n",
       "       [  1. ,   0. ],\n",
       "       [  3. ,   5. ],\n",
       "       [  9. ,  11.5]])"
      ]
     },
     "execution_count": 93,
     "metadata": {},
     "output_type": "execute_result"
    }
   ],
   "source": [
    "for j in range(len(X)):\n",
    "    point = np.random.binomial(1,prob[j],size = 1)\n",
    "    if point == 1:\n",
    "       Ct.append(X[j,:])\n",
    "       idx.append(j)\n",
    "X = np.delete(X, idx, axis = 0)\n",
    "C = np.concatenate((C,np.array(Ct).reshape(len(Ct),2)),axis = 0)\n",
    "C"
   ]
  },
  {
   "cell_type": "code",
   "execution_count": 94,
   "metadata": {
    "collapsed": false
   },
   "outputs": [
    {
     "data": {
      "text/plain": [
       "array([[  3. ,   4.8],\n",
       "       [  4. ,   4.9],\n",
       "       [  8.7,  11.7]])"
      ]
     },
     "execution_count": 94,
     "metadata": {},
     "output_type": "execute_result"
    }
   ],
   "source": [
    "X"
   ]
  },
  {
   "cell_type": "code",
   "execution_count": 95,
   "metadata": {
    "collapsed": false
   },
   "outputs": [
    {
     "data": {
      "text/plain": [
       "[0.16326530612244916, 1.3061224489795915, 0.5306122448979594]"
      ]
     },
     "execution_count": 95,
     "metadata": {},
     "output_type": "execute_result"
    }
   ],
   "source": [
    "Ct = []\n",
    "idx = []\n",
    "gamma = cost(X,C)\n",
    "prob = [l*d(x,C)**2/gamma for x in X]\n",
    "#new = data[np.random.choice(X.shape[0], size=1, p=prob),:]\n",
    "prob"
   ]
  },
  {
   "cell_type": "code",
   "execution_count": null,
   "metadata": {
    "collapsed": true
   },
   "outputs": [],
   "source": []
  }
 ],
 "metadata": {
  "kernelspec": {
   "display_name": "Python 3",
   "language": "python",
   "name": "python3"
  },
  "language_info": {
   "codemirror_mode": {
    "name": "ipython",
    "version": 3
   },
   "file_extension": ".py",
   "mimetype": "text/x-python",
   "name": "python",
   "nbconvert_exporter": "python",
   "pygments_lexer": "ipython3",
   "version": "3.5.1"
  }
 },
 "nbformat": 4,
 "nbformat_minor": 0
}
